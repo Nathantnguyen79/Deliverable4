{
  "nbformat": 4,
  "nbformat_minor": 0,
  "metadata": {
    "colab": {
      "provenance": []
    },
    "kernelspec": {
      "name": "python3",
      "display_name": "Python 3"
    },
    "language_info": {
      "name": "python"
    }
  },
  "cells": [
    {
      "cell_type": "code",
      "execution_count": 160,
      "metadata": {
        "colab": {
          "base_uri": "https://localhost:8080/"
        },
        "id": "mwR5Xl_npiPH",
        "outputId": "f6ab5338-427a-4d43-9457-2229722e42b0"
      },
      "outputs": [
        {
          "output_type": "stream",
          "name": "stdout",
          "text": [
            "Please enter an interger number between 5 and 15: 5\n",
            "The elements of the array are: [34, 42, 47, 46, 30]\n",
            "The sum of random numbers is:  199\n"
          ]
        }
      ],
      "source": [
        "import numpy as np\n",
        "a = int(input(\"Please enter an interger number between 5 and 15: \"))\n",
        "numbers = []\n",
        "for elements in range(a):\n",
        "  if a >= 5:\n",
        "    if a <= 15:\n",
        "     random_number = np.random.randint(10, 51)\n",
        "     numbers.append(random_number)\n",
        "    else:\n",
        "      a = int(input(\"Please enter an interger number between 5 and 15: \"))\n",
        "  else:\n",
        "    a = int(input(\"Please enter an interger number between 5 and 15: \"))\n",
        "\n",
        "print(\"The elements of the array are:\", numbers)\n",
        "total = sum(numbers)\n",
        "print(\"The sum of random numbers is: \", total)"
      ]
    }
  ]
}